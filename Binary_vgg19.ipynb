{
  "nbformat": 4,
  "nbformat_minor": 0,
  "metadata": {
    "colab": {
      "name": "project_ray_5_vgg19.ipynb",
      "provenance": [],
      "collapsed_sections": [],
      "include_colab_link": true
    },
    "kernelspec": {
      "name": "python3",
      "display_name": "Python 3"
    },
    "accelerator": "GPU"
  },
  "cells": [
    {
      "cell_type": "markdown",
      "metadata": {
        "id": "view-in-github",
        "colab_type": "text"
      },
      "source": [
        "<a href=\"https://colab.research.google.com/github/prtk0007/Pneumonia-Covid19-detection/blob/main/Binary_vgg19.ipynb\" target=\"_parent\"><img src=\"https://colab.research.google.com/assets/colab-badge.svg\" alt=\"Open In Colab\"/></a>"
      ]
    },
    {
      "cell_type": "code",
      "metadata": {
        "id": "FDli6L0a8_of"
      },
      "source": [
        "import os\n",
        "os.environ['KAGGLE_CONFIG_DIR'] = \"/content\""
      ],
      "execution_count": null,
      "outputs": []
    },
    {
      "cell_type": "code",
      "metadata": {
        "colab": {
          "base_uri": "https://localhost:8080/"
        },
        "id": "Pv8tO3vt9eOA",
        "outputId": "4cc758a3-22b0-4fb3-ae50-e5bacfef8e97"
      },
      "source": [
        "!kaggle datasets download -d paultimothymooney/chest-xray-pneumonia"
      ],
      "execution_count": null,
      "outputs": [
        {
          "output_type": "stream",
          "text": [
            "Warning: Your Kaggle API key is readable by other users on this system! To fix this, you can run 'chmod 600 /content/kaggle.json'\n",
            "Downloading chest-xray-pneumonia.zip to /content\n",
            "100% 2.29G/2.29G [00:32<00:00, 35.9MB/s]\n",
            "100% 2.29G/2.29G [00:32<00:00, 74.8MB/s]\n"
          ],
          "name": "stdout"
        }
      ]
    },
    {
      "cell_type": "code",
      "metadata": {
        "id": "8paBEzCn90RS"
      },
      "source": [
        "!unzip \\*.zip"
      ],
      "execution_count": null,
      "outputs": []
    },
    {
      "cell_type": "code",
      "metadata": {
        "id": "KcQF88tb97Vo"
      },
      "source": [
        "from keras.layers import Input, Lambda, Dense, Flatten\n",
        "from keras.models import Model\n",
        "#from keras.applications.resnet50 import ResNet50\n",
        "from keras.applications.vgg19 import VGG19\n",
        "from keras.applications.vgg19 import preprocess_input\n",
        "from keras.preprocessing import image\n",
        "from keras.preprocessing.image import ImageDataGenerator\n",
        "from keras.models import Sequential\n",
        "import numpy as np\n",
        "from glob import glob\n",
        "import matplotlib.pyplot as plt"
      ],
      "execution_count": null,
      "outputs": []
    },
    {
      "cell_type": "code",
      "metadata": {
        "id": "pD2F5AEf-DaV"
      },
      "source": [
        "IMAGE_SIZE = [224, 224]\n",
        "\n",
        "train_path = '/content/chest_xray/chest_xray/train'\n",
        "valid_path = '/content/chest_xray/chest_xray/test'"
      ],
      "execution_count": null,
      "outputs": []
    },
    {
      "cell_type": "code",
      "metadata": {
        "id": "aS0VXN4k-Xab"
      },
      "source": [
        "vgg = VGG19(input_shape=IMAGE_SIZE + [3], weights='imagenet', include_top=False)"
      ],
      "execution_count": null,
      "outputs": []
    },
    {
      "cell_type": "code",
      "metadata": {
        "id": "OC1norrG-gkx"
      },
      "source": [
        "for layer in vgg.layers:\n",
        "    layer.trainable = False"
      ],
      "execution_count": null,
      "outputs": []
    },
    {
      "cell_type": "code",
      "metadata": {
        "colab": {
          "base_uri": "https://localhost:8080/"
        },
        "id": "mrK-9X5A-kk0",
        "outputId": "5773a506-ca3d-4d0e-a88c-8c40c06ebc6e"
      },
      "source": [
        "folders = glob('/content/chest_xray/chest_xray/train/*')\n",
        "folders"
      ],
      "execution_count": null,
      "outputs": [
        {
          "output_type": "execute_result",
          "data": {
            "text/plain": [
              "['/content/chest_xray/chest_xray/train/NORMAL',\n",
              " '/content/chest_xray/chest_xray/train/PNEUMONIA']"
            ]
          },
          "metadata": {
            "tags": []
          },
          "execution_count": 21
        }
      ]
    },
    {
      "cell_type": "code",
      "metadata": {
        "id": "hlvOLo8g_R4l",
        "colab": {
          "base_uri": "https://localhost:8080/"
        },
        "outputId": "df192b2d-47ff-47c1-976c-313d80c2b779"
      },
      "source": [
        "vgg.summary()"
      ],
      "execution_count": null,
      "outputs": [
        {
          "output_type": "stream",
          "text": [
            "Model: \"vgg19\"\n",
            "_________________________________________________________________\n",
            "Layer (type)                 Output Shape              Param #   \n",
            "=================================================================\n",
            "input_2 (InputLayer)         [(None, 224, 224, 3)]     0         \n",
            "_________________________________________________________________\n",
            "block1_conv1 (Conv2D)        (None, 224, 224, 64)      1792      \n",
            "_________________________________________________________________\n",
            "block1_conv2 (Conv2D)        (None, 224, 224, 64)      36928     \n",
            "_________________________________________________________________\n",
            "block1_pool (MaxPooling2D)   (None, 112, 112, 64)      0         \n",
            "_________________________________________________________________\n",
            "block2_conv1 (Conv2D)        (None, 112, 112, 128)     73856     \n",
            "_________________________________________________________________\n",
            "block2_conv2 (Conv2D)        (None, 112, 112, 128)     147584    \n",
            "_________________________________________________________________\n",
            "block2_pool (MaxPooling2D)   (None, 56, 56, 128)       0         \n",
            "_________________________________________________________________\n",
            "block3_conv1 (Conv2D)        (None, 56, 56, 256)       295168    \n",
            "_________________________________________________________________\n",
            "block3_conv2 (Conv2D)        (None, 56, 56, 256)       590080    \n",
            "_________________________________________________________________\n",
            "block3_conv3 (Conv2D)        (None, 56, 56, 256)       590080    \n",
            "_________________________________________________________________\n",
            "block3_conv4 (Conv2D)        (None, 56, 56, 256)       590080    \n",
            "_________________________________________________________________\n",
            "block3_pool (MaxPooling2D)   (None, 28, 28, 256)       0         \n",
            "_________________________________________________________________\n",
            "block4_conv1 (Conv2D)        (None, 28, 28, 512)       1180160   \n",
            "_________________________________________________________________\n",
            "block4_conv2 (Conv2D)        (None, 28, 28, 512)       2359808   \n",
            "_________________________________________________________________\n",
            "block4_conv3 (Conv2D)        (None, 28, 28, 512)       2359808   \n",
            "_________________________________________________________________\n",
            "block4_conv4 (Conv2D)        (None, 28, 28, 512)       2359808   \n",
            "_________________________________________________________________\n",
            "block4_pool (MaxPooling2D)   (None, 14, 14, 512)       0         \n",
            "_________________________________________________________________\n",
            "block5_conv1 (Conv2D)        (None, 14, 14, 512)       2359808   \n",
            "_________________________________________________________________\n",
            "block5_conv2 (Conv2D)        (None, 14, 14, 512)       2359808   \n",
            "_________________________________________________________________\n",
            "block5_conv3 (Conv2D)        (None, 14, 14, 512)       2359808   \n",
            "_________________________________________________________________\n",
            "block5_conv4 (Conv2D)        (None, 14, 14, 512)       2359808   \n",
            "_________________________________________________________________\n",
            "block5_pool (MaxPooling2D)   (None, 7, 7, 512)         0         \n",
            "=================================================================\n",
            "Total params: 20,024,384\n",
            "Trainable params: 0\n",
            "Non-trainable params: 20,024,384\n",
            "_________________________________________________________________\n"
          ],
          "name": "stdout"
        }
      ]
    },
    {
      "cell_type": "code",
      "metadata": {
        "id": "F_wTT_r6AIuC"
      },
      "source": [
        "from keras.layers import Dropout\n",
        "x = Flatten(name='flatten')(vgg.output)\n",
        "x = Dense(512, activation='relu', name='fc1')(x)\n",
        "x = Dropout(0.3, name='drop1')(x)\n",
        "x = Dense(256, activation='relu', name='fc2')(x)\n",
        "x = Dropout(0.3, name='drop2')(x)\n",
        "x = Dense(1, activation='sigmoid', name='predictions')(x)"
      ],
      "execution_count": null,
      "outputs": []
    },
    {
      "cell_type": "code",
      "metadata": {
        "id": "N5E-4kgGAX48"
      },
      "source": [
        "model = Model(inputs=vgg.input, outputs=x)"
      ],
      "execution_count": null,
      "outputs": []
    },
    {
      "cell_type": "code",
      "metadata": {
        "id": "B2Ls1Mj4Ap6z",
        "colab": {
          "base_uri": "https://localhost:8080/"
        },
        "outputId": "73d462c0-1374-40a7-d631-bd8e14e2d313"
      },
      "source": [
        "model.summary()"
      ],
      "execution_count": null,
      "outputs": [
        {
          "output_type": "stream",
          "text": [
            "Model: \"model_1\"\n",
            "_________________________________________________________________\n",
            "Layer (type)                 Output Shape              Param #   \n",
            "=================================================================\n",
            "input_2 (InputLayer)         [(None, 224, 224, 3)]     0         \n",
            "_________________________________________________________________\n",
            "block1_conv1 (Conv2D)        (None, 224, 224, 64)      1792      \n",
            "_________________________________________________________________\n",
            "block1_conv2 (Conv2D)        (None, 224, 224, 64)      36928     \n",
            "_________________________________________________________________\n",
            "block1_pool (MaxPooling2D)   (None, 112, 112, 64)      0         \n",
            "_________________________________________________________________\n",
            "block2_conv1 (Conv2D)        (None, 112, 112, 128)     73856     \n",
            "_________________________________________________________________\n",
            "block2_conv2 (Conv2D)        (None, 112, 112, 128)     147584    \n",
            "_________________________________________________________________\n",
            "block2_pool (MaxPooling2D)   (None, 56, 56, 128)       0         \n",
            "_________________________________________________________________\n",
            "block3_conv1 (Conv2D)        (None, 56, 56, 256)       295168    \n",
            "_________________________________________________________________\n",
            "block3_conv2 (Conv2D)        (None, 56, 56, 256)       590080    \n",
            "_________________________________________________________________\n",
            "block3_conv3 (Conv2D)        (None, 56, 56, 256)       590080    \n",
            "_________________________________________________________________\n",
            "block3_conv4 (Conv2D)        (None, 56, 56, 256)       590080    \n",
            "_________________________________________________________________\n",
            "block3_pool (MaxPooling2D)   (None, 28, 28, 256)       0         \n",
            "_________________________________________________________________\n",
            "block4_conv1 (Conv2D)        (None, 28, 28, 512)       1180160   \n",
            "_________________________________________________________________\n",
            "block4_conv2 (Conv2D)        (None, 28, 28, 512)       2359808   \n",
            "_________________________________________________________________\n",
            "block4_conv3 (Conv2D)        (None, 28, 28, 512)       2359808   \n",
            "_________________________________________________________________\n",
            "block4_conv4 (Conv2D)        (None, 28, 28, 512)       2359808   \n",
            "_________________________________________________________________\n",
            "block4_pool (MaxPooling2D)   (None, 14, 14, 512)       0         \n",
            "_________________________________________________________________\n",
            "block5_conv1 (Conv2D)        (None, 14, 14, 512)       2359808   \n",
            "_________________________________________________________________\n",
            "block5_conv2 (Conv2D)        (None, 14, 14, 512)       2359808   \n",
            "_________________________________________________________________\n",
            "block5_conv3 (Conv2D)        (None, 14, 14, 512)       2359808   \n",
            "_________________________________________________________________\n",
            "block5_conv4 (Conv2D)        (None, 14, 14, 512)       2359808   \n",
            "_________________________________________________________________\n",
            "block5_pool (MaxPooling2D)   (None, 7, 7, 512)         0         \n",
            "_________________________________________________________________\n",
            "flatten (Flatten)            (None, 25088)             0         \n",
            "_________________________________________________________________\n",
            "fc1 (Dense)                  (None, 512)               12845568  \n",
            "_________________________________________________________________\n",
            "drop1 (Dropout)              (None, 512)               0         \n",
            "_________________________________________________________________\n",
            "fc2 (Dense)                  (None, 256)               131328    \n",
            "_________________________________________________________________\n",
            "drop2 (Dropout)              (None, 256)               0         \n",
            "_________________________________________________________________\n",
            "predictions (Dense)          (None, 1)                 257       \n",
            "=================================================================\n",
            "Total params: 33,001,537\n",
            "Trainable params: 12,977,153\n",
            "Non-trainable params: 20,024,384\n",
            "_________________________________________________________________\n"
          ],
          "name": "stdout"
        }
      ]
    },
    {
      "cell_type": "code",
      "metadata": {
        "id": "mio90IFqA2BN"
      },
      "source": [
        "from keras.optimizers import Adam\n",
        "opt = Adam(lr=0.0001)\n",
        "model.compile(\n",
        "  loss='binary_crossentropy',\n",
        "  optimizer=opt,\n",
        "  metrics=['accuracy']\n",
        ")"
      ],
      "execution_count": null,
      "outputs": []
    },
    {
      "cell_type": "code",
      "metadata": {
        "id": "6dxVFKOgBBCT"
      },
      "source": [
        "train_datagen = ImageDataGenerator(rescale = 1./255,\n",
        "                                   shear_range = 0.2,\n",
        "                                   zoom_range = 0.2,\n",
        "                                   horizontal_flip = True)\n",
        "\n",
        "test_datagen = ImageDataGenerator(rescale = 1./255) \n",
        "val_datagen = ImageDataGenerator(rescale = 1./255)"
      ],
      "execution_count": null,
      "outputs": []
    },
    {
      "cell_type": "code",
      "metadata": {
        "colab": {
          "base_uri": "https://localhost:8080/"
        },
        "id": "ieZe_3SJBCin",
        "outputId": "fcff2cee-a1d0-477b-c7e9-051a919a4a58"
      },
      "source": [
        "training_set = train_datagen.flow_from_directory('/content/chest_xray/chest_xray/train',\n",
        "                                                 target_size = (224, 224),\n",
        "                                                 batch_size = 64,\n",
        "                                                 class_mode = 'binary')"
      ],
      "execution_count": null,
      "outputs": [
        {
          "output_type": "stream",
          "text": [
            "Found 5216 images belonging to 2 classes.\n"
          ],
          "name": "stdout"
        }
      ]
    },
    {
      "cell_type": "code",
      "metadata": {
        "colab": {
          "base_uri": "https://localhost:8080/"
        },
        "id": "rdEsgr1nBSEu",
        "outputId": "447cebe2-ac4d-4309-9fc2-ecb40973a10c"
      },
      "source": [
        "test_set = test_datagen.flow_from_directory('/content/chest_xray/chest_xray/test',\n",
        "                                            target_size = (224, 224),\n",
        "                                            batch_size = 64,\n",
        "                                            shuffle=False,\n",
        "                                            class_mode = 'binary')"
      ],
      "execution_count": null,
      "outputs": [
        {
          "output_type": "stream",
          "text": [
            "Found 624 images belonging to 2 classes.\n"
          ],
          "name": "stdout"
        }
      ]
    },
    {
      "cell_type": "code",
      "metadata": {
        "colab": {
          "base_uri": "https://localhost:8080/"
        },
        "id": "nj0vVyg3ATzu",
        "outputId": "3bc77fd5-32a6-45b2-f8f8-d0aef3488f08"
      },
      "source": [
        "val_set = val_datagen.flow_from_directory('/content/chest_xray/chest_xray/val',\n",
        "                                            target_size = (224, 224),\n",
        "                                            class_mode = 'binary')"
      ],
      "execution_count": null,
      "outputs": [
        {
          "output_type": "stream",
          "text": [
            "Found 16 images belonging to 2 classes.\n"
          ],
          "name": "stdout"
        }
      ]
    },
    {
      "cell_type": "code",
      "metadata": {
        "id": "M0JWaSHTeDsJ"
      },
      "source": [
        "# from tensorflow.keras.callbacks import EarlyStopping,ReduceLROnPlateau\n",
        "# early = EarlyStopping(monitor='val_accuracy', mode='min', patience=10)\n",
        "# learning_rate_reduction = ReduceLROnPlateau(monitor='val_loss', patience = 7, verbose=1,factor=0.3, min_lr=0.001)\n",
        "# callbacks_list = [ early, learning_rate_reduction]"
      ],
      "execution_count": null,
      "outputs": []
    },
    {
      "cell_type": "code",
      "metadata": {
        "colab": {
          "base_uri": "https://localhost:8080/"
        },
        "id": "bm97lvUZBeBB",
        "outputId": "03cf9a18-c777-4580-d879-c9a69e724704"
      },
      "source": [
        "r = model.fit(\n",
        "  training_set,\n",
        "  validation_data=test_set,\n",
        "  epochs=15\n",
        ")"
      ],
      "execution_count": null,
      "outputs": [
        {
          "output_type": "stream",
          "text": [
            "Epoch 1/15\n",
            "82/82 [==============================] - 108s 1s/step - loss: 0.4205 - accuracy: 0.8114 - val_loss: 0.2947 - val_accuracy: 0.8750\n",
            "Epoch 2/15\n",
            "82/82 [==============================] - 104s 1s/step - loss: 0.1896 - accuracy: 0.9256 - val_loss: 0.2686 - val_accuracy: 0.9006\n",
            "Epoch 3/15\n",
            "82/82 [==============================] - 103s 1s/step - loss: 0.1637 - accuracy: 0.9404 - val_loss: 0.4511 - val_accuracy: 0.8574\n",
            "Epoch 4/15\n",
            "82/82 [==============================] - 103s 1s/step - loss: 0.1416 - accuracy: 0.9452 - val_loss: 0.3442 - val_accuracy: 0.8798\n",
            "Epoch 5/15\n",
            "82/82 [==============================] - 104s 1s/step - loss: 0.1370 - accuracy: 0.9463 - val_loss: 0.2771 - val_accuracy: 0.9119\n",
            "Epoch 6/15\n",
            "82/82 [==============================] - 104s 1s/step - loss: 0.1212 - accuracy: 0.9467 - val_loss: 0.2955 - val_accuracy: 0.9038\n",
            "Epoch 7/15\n",
            "82/82 [==============================] - 104s 1s/step - loss: 0.1178 - accuracy: 0.9547 - val_loss: 0.2886 - val_accuracy: 0.9022\n",
            "Epoch 8/15\n",
            "82/82 [==============================] - 104s 1s/step - loss: 0.1194 - accuracy: 0.9534 - val_loss: 0.2413 - val_accuracy: 0.9263\n",
            "Epoch 9/15\n",
            "82/82 [==============================] - 103s 1s/step - loss: 0.0968 - accuracy: 0.9644 - val_loss: 0.2674 - val_accuracy: 0.9151\n",
            "Epoch 10/15\n",
            "82/82 [==============================] - 103s 1s/step - loss: 0.0843 - accuracy: 0.9675 - val_loss: 0.2327 - val_accuracy: 0.9215\n",
            "Epoch 11/15\n",
            "82/82 [==============================] - 104s 1s/step - loss: 0.0950 - accuracy: 0.9620 - val_loss: 0.2326 - val_accuracy: 0.9183\n",
            "Epoch 12/15\n",
            "82/82 [==============================] - 103s 1s/step - loss: 0.1208 - accuracy: 0.9536 - val_loss: 0.2662 - val_accuracy: 0.9167\n",
            "Epoch 13/15\n",
            "82/82 [==============================] - 103s 1s/step - loss: 0.0892 - accuracy: 0.9693 - val_loss: 0.2504 - val_accuracy: 0.9183\n",
            "Epoch 14/15\n",
            "82/82 [==============================] - 104s 1s/step - loss: 0.0894 - accuracy: 0.9641 - val_loss: 0.2987 - val_accuracy: 0.9022\n",
            "Epoch 15/15\n",
            "82/82 [==============================] - 103s 1s/step - loss: 0.0921 - accuracy: 0.9646 - val_loss: 0.2942 - val_accuracy: 0.9087\n"
          ],
          "name": "stdout"
        }
      ]
    },
    {
      "cell_type": "code",
      "metadata": {
        "id": "yPc9pxwXYyFL"
      },
      "source": [
        "model.evaluate(training_set)"
      ],
      "execution_count": null,
      "outputs": []
    },
    {
      "cell_type": "code",
      "metadata": {
        "colab": {
          "base_uri": "https://localhost:8080/"
        },
        "id": "NJYq5aepAjcV",
        "outputId": "537b6e9b-e86a-409d-d070-28e2a20d5286"
      },
      "source": [
        "model.evaluate(test_set)"
      ],
      "execution_count": null,
      "outputs": [
        {
          "output_type": "stream",
          "text": [
            "10/10 [==============================] - 6s 505ms/step - loss: 0.2942 - accuracy: 0.9087\n"
          ],
          "name": "stdout"
        },
        {
          "output_type": "execute_result",
          "data": {
            "text/plain": [
              "[0.294225811958313, 0.9086538553237915]"
            ]
          },
          "metadata": {
            "tags": []
          },
          "execution_count": 34
        }
      ]
    },
    {
      "cell_type": "code",
      "metadata": {
        "id": "LLef7x4Bi1kn",
        "colab": {
          "base_uri": "https://localhost:8080/"
        },
        "outputId": "fa0de280-71e8-43ec-86cf-bded220532f5"
      },
      "source": [
        "preds_binary = model.predict(test_set,verbose=1)\n"
      ],
      "execution_count": null,
      "outputs": [
        {
          "output_type": "stream",
          "text": [
            "10/10 [==============================] - 6s 547ms/step\n"
          ],
          "name": "stdout"
        }
      ]
    },
    {
      "cell_type": "code",
      "metadata": {
        "id": "eJcKAUxgjVLG"
      },
      "source": [
        "predictions = preds_binary.copy()\n",
        "predictions[predictions <= 0.5] = 0\n",
        "predictions[predictions > 0.5] = 1"
      ],
      "execution_count": null,
      "outputs": []
    },
    {
      "cell_type": "code",
      "metadata": {
        "id": "6IPuE-Zdkgus",
        "colab": {
          "base_uri": "https://localhost:8080/",
          "height": 297
        },
        "outputId": "2ceea64b-959a-4298-9b23-f9ac72a47f4e"
      },
      "source": [
        "from sklearn.metrics import classification_report,confusion_matrix\n",
        "import pandas as pd\n",
        "cm = pd.DataFrame(data=confusion_matrix(test_set.classes, predictions, labels=[0, 1]),index=[\"Actual Normal\", \"Actual Pneumonia\"],\n",
        "columns=[\"Predicted Normal\", \"Predicted Pneumonia\"])\n",
        "import seaborn as sns\n",
        "sns.heatmap(cm,annot=True,fmt=\"d\")"
      ],
      "execution_count": null,
      "outputs": [
        {
          "output_type": "execute_result",
          "data": {
            "text/plain": [
              "<matplotlib.axes._subplots.AxesSubplot at 0x7fa4e3489b00>"
            ]
          },
          "metadata": {
            "tags": []
          },
          "execution_count": 46
        },
        {
          "output_type": "display_data",
          "data": {
            "image/png": "[encoded data removed]",
            "text/plain": [
              "<Figure size 432x288 with 2 Axes>"
            ]
          },
          "metadata": {
            "tags": [],
            "needs_background": "light"
          }
        }
      ]
    },
    {
      "cell_type": "code",
      "metadata": {
        "id": "exVGkLEgmpUZ",
        "colab": {
          "base_uri": "https://localhost:8080/"
        },
        "outputId": "c53c9048-fcdb-416a-b5d7-e68f3bd01840"
      },
      "source": [
        "print(classification_report(y_true=test_set.classes,y_pred=predictions,target_names =['NORMAL','PNEUMONIA']))"
      ],
      "execution_count": null,
      "outputs": [
        {
          "output_type": "stream",
          "text": [
            "              precision    recall  f1-score   support\n",
            "\n",
            "      NORMAL       0.95      0.79      0.87       234\n",
            "   PNEUMONIA       0.89      0.98      0.93       390\n",
            "\n",
            "    accuracy                           0.91       624\n",
            "   macro avg       0.92      0.89      0.90       624\n",
            "weighted avg       0.91      0.91      0.91       624\n",
            "\n"
          ],
          "name": "stdout"
        }
      ]
    },
    {
      "cell_type": "code",
      "metadata": {
        "id": "ZsM_b0Obj94e"
      },
      "source": [
        "from keras.models import load_model\n",
        "model = load_model('/content/drive/MyDrive/Kaggle/model_vgg19.h5')"
      ],
      "execution_count": null,
      "outputs": []
    }
  ]
}