{
  "nbformat": 4,
  "nbformat_minor": 0,
  "metadata": {
    "colab": {
      "name": "scratch_cnn_1.ipynb",
      "provenance": [],
      "collapsed_sections": [],
      "include_colab_link": true
    },
    "kernelspec": {
      "name": "python3",
      "display_name": "Python 3"
    },
    "accelerator": "GPU"
  },
  "cells": [
    {
      "cell_type": "markdown",
      "metadata": {
        "id": "view-in-github",
        "colab_type": "text"
      },
      "source": [
        "<a href=\"https://colab.research.google.com/github/prtk0007/Pneumonia-Covid19-detection/blob/main/multiclass_model-1.ipynb\" target=\"_parent\"><img src=\"https://colab.research.google.com/assets/colab-badge.svg\" alt=\"Open In Colab\"/></a>"
      ]
    },
    {
      "cell_type": "code",
      "metadata": {
        "id": "R1XmqXRerEIn"
      },
      "source": [
        "import os\n",
        "os.environ['KAGGLE_CONFIG_DIR'] = \"/content\"\n",
        "# # !kaggle datasets download -d paultimothymooney/chest-xray-pneumonia\n",
        "#! kaggle datasets download -d pcbreviglieri/pneumonia-xray-images\n",
        "!kaggle datasets download -d tawsifurrahman/covid19-radiography-database\n",
        "!unzip \\*.zip"
      ],
      "execution_count": null,
      "outputs": []
    },
    {
      "cell_type": "code",
      "metadata": {
        "id": "v5Xd9ZqMMmb3",
        "colab": {
          "base_uri": "https://localhost:8080/"
        },
        "outputId": "35cc7b09-f287-4827-dd45-bf9bdd81ade7"
      },
      "source": [
        "from google.colab import drive\n",
        "drive.mount('/content/drive')"
      ],
      "execution_count": null,
      "outputs": [
        {
          "output_type": "stream",
          "text": [
            "Mounted at /content/drive\n"
          ],
          "name": "stdout"
        }
      ]
    },
    {
      "cell_type": "code",
      "metadata": {
        "colab": {
          "base_uri": "https://localhost:8080/"
        },
        "id": "WJ8YEHj-4fyF",
        "outputId": "24af9091-dfaa-4aa0-f0da-3f35799b623c"
      },
      "source": [
        "#!pip install split-folders\n",
        "import splitfolders\n",
        "splitfolders.ratio(\"/content/COVID-19 Radiography Database\", output=\"Data\", seed=1337, ratio=(.8, .2), group_prefix=None)"
      ],
      "execution_count": null,
      "outputs": [
        {
          "output_type": "stream",
          "text": [
            "Copying files: 3886 files [00:04, 907.97 files/s] \n"
          ],
          "name": "stderr"
        }
      ]
    },
    {
      "cell_type": "code",
      "metadata": {
        "id": "OPQ6QDVlCIzI"
      },
      "source": [
        "import matplotlib.pyplot as plt\n",
        "import numpy as np\n",
        "import pandas as pd"
      ],
      "execution_count": null,
      "outputs": []
    },
    {
      "cell_type": "code",
      "metadata": {
        "id": "fqJZa3arDwwJ"
      },
      "source": [
        "train_path = '/content/drive/MyDrive/Covid git/Data/train'\n",
        "#test_path = '/content/test'\n",
        "valid_path = '/content/drive/MyDrive/Covid git/Data/val'"
      ],
      "execution_count": null,
      "outputs": []
    },
    {
      "cell_type": "code",
      "metadata": {
        "id": "HARIiHrzEySz"
      },
      "source": [
        "\n",
        "#Define standard parameter values\n",
        "batch_size = 32\n",
        "img_height = 500\n",
        "img_width = 500\n"
      ],
      "execution_count": null,
      "outputs": []
    },
    {
      "cell_type": "code",
      "metadata": {
        "id": "2HqL0LBA3mOC",
        "colab": {
          "base_uri": "https://localhost:8080/"
        },
        "outputId": "9d1cb31e-a5cc-458a-eefb-0d3de2f779ad"
      },
      "source": [
        "from tensorflow.keras.preprocessing.image import ImageDataGenerator, array_to_img\n",
        "\n",
        "image_gen = ImageDataGenerator(\n",
        "                                   rescale = 1./255,\n",
        "                                   shear_range = 0.2,\n",
        "                                   zoom_range = 0.2,\n",
        "                                   rotation_range=20,\n",
        "                                   horizontal_flip = True,\n",
        "                              \n",
        "                               )  \n",
        "\n",
        "test_data_gen = ImageDataGenerator(rescale = 1./255)\n",
        "\n",
        "\n",
        "\n",
        "train = image_gen.flow_from_directory(\n",
        "    train_path,\n",
        "    target_size=(img_height, img_width),\n",
        "    color_mode='grayscale',\n",
        "    class_mode='categorical',\n",
        "    batch_size=batch_size\n",
        "                                      )\n",
        "\n",
        "# test = test_data_gen.flow_from_directory(\n",
        "#       test_path,\n",
        "#       target_size=(img_height, img_width),\n",
        "#       color_mode='grayscale',shuffle=False,\n",
        "#       class_mode='binary',\n",
        "#       batch_size=batch_size\n",
        "#       )\n",
        "valid = test_data_gen.flow_from_directory(\n",
        "      valid_path,\n",
        "      target_size=(img_height, img_width),\n",
        "      color_mode='grayscale',shuffle=False,\n",
        "      class_mode='categorical', \n",
        "      batch_size=batch_size\n",
        "      )"
      ],
      "execution_count": null,
      "outputs": [
        {
          "output_type": "stream",
          "text": [
            "Found 3108 images belonging to 3 classes.\n",
            "Found 778 images belonging to 3 classes.\n"
          ],
          "name": "stdout"
        }
      ]
    },
    {
      "cell_type": "code",
      "metadata": {
        "id": "RfeXspblliw3"
      },
      "source": [
        "from tensorflow.keras.models import Sequential,load_model,save_model\n",
        "from tensorflow.keras.layers import Dense,Conv2D,Flatten,MaxPooling2D,Dropout,BatchNormalization\n",
        "from tensorflow.keras.callbacks import EarlyStopping,ReduceLROnPlateau"
      ],
      "execution_count": null,
      "outputs": []
    },
    {
      "cell_type": "code",
      "metadata": {
        "id": "B5weZVzmiU6n"
      },
      "source": [
        "# let's build the CNN model\n",
        "\n",
        "cnn = Sequential()\n",
        "\n",
        "cnn.add(Conv2D(32, (3, 3), activation=\"relu\", input_shape=(img_width, img_height, 1)))\n",
        "cnn.add(BatchNormalization())\n",
        "cnn.add(MaxPooling2D(pool_size = (2, 2)))\n",
        "\n",
        "cnn.add(Conv2D(32, (3, 3), activation=\"relu\", input_shape=(img_width, img_height, 1)))\n",
        "cnn.add(MaxPooling2D(pool_size = (2, 2)))\n",
        "\n",
        "cnn.add(Conv2D(32, (1, 1), activation=\"relu\", input_shape=(img_width, img_height, 1)))\n",
        "cnn.add(MaxPooling2D(pool_size = (2, 2)))\n",
        "\n",
        "cnn.add(Conv2D(64, (3, 3), activation=\"relu\", input_shape=(img_width, img_height, 1)))\n",
        "cnn.add(MaxPooling2D(pool_size = (2, 2)))\n",
        "\n",
        "cnn.add(Conv2D(64, (1, 1), activation=\"relu\", input_shape=(img_width, img_height, 1)))\n",
        "cnn.add(MaxPooling2D(pool_size = (2, 2)))\n",
        "\n",
        "cnn.add(Conv2D(128, (3, 3), activation=\"relu\", input_shape=(img_width, img_height, 1)))\n",
        "cnn.add(MaxPooling2D(pool_size = (2, 2)))\n",
        "\n",
        "cnn.add(Flatten())\n",
        "\n",
        "cnn.add(Dense(activation = 'relu', units = 256))\n",
        "cnn.add(Dropout(0.4))\n",
        "\n",
        "cnn.add(Dense(activation = 'softmax', units = 3))\n",
        "\n",
        "\n",
        "cnn.compile(optimizer = 'adam', loss = 'categorical_crossentropy', metrics = ['accuracy'])"
      ],
      "execution_count": null,
      "outputs": []
    },
    {
      "cell_type": "code",
      "metadata": {
        "id": "_N-fJYMgwvxR",
        "colab": {
          "base_uri": "https://localhost:8080/"
        },
        "outputId": "d4cb065c-7e99-4632-e985-e48819c8af9a"
      },
      "source": [
        "cnn.summary()"
      ],
      "execution_count": null,
      "outputs": [
        {
          "output_type": "stream",
          "text": [
            "Model: \"sequential_7\"\n",
            "_________________________________________________________________\n",
            "Layer (type)                 Output Shape              Param #   \n",
            "=================================================================\n",
            "conv2d_42 (Conv2D)           (None, 498, 498, 32)      320       \n",
            "_________________________________________________________________\n",
            "batch_normalization_7 (Batch (None, 498, 498, 32)      128       \n",
            "_________________________________________________________________\n",
            "max_pooling2d_42 (MaxPooling (None, 249, 249, 32)      0         \n",
            "_________________________________________________________________\n",
            "conv2d_43 (Conv2D)           (None, 247, 247, 32)      9248      \n",
            "_________________________________________________________________\n",
            "max_pooling2d_43 (MaxPooling (None, 123, 123, 32)      0         \n",
            "_________________________________________________________________\n",
            "conv2d_44 (Conv2D)           (None, 123, 123, 32)      1056      \n",
            "_________________________________________________________________\n",
            "max_pooling2d_44 (MaxPooling (None, 61, 61, 32)        0         \n",
            "_________________________________________________________________\n",
            "conv2d_45 (Conv2D)           (None, 59, 59, 64)        18496     \n",
            "_________________________________________________________________\n",
            "max_pooling2d_45 (MaxPooling (None, 29, 29, 64)        0         \n",
            "_________________________________________________________________\n",
            "conv2d_46 (Conv2D)           (None, 29, 29, 64)        4160      \n",
            "_________________________________________________________________\n",
            "max_pooling2d_46 (MaxPooling (None, 14, 14, 64)        0         \n",
            "_________________________________________________________________\n",
            "conv2d_47 (Conv2D)           (None, 12, 12, 128)       73856     \n",
            "_________________________________________________________________\n",
            "max_pooling2d_47 (MaxPooling (None, 6, 6, 128)         0         \n",
            "_________________________________________________________________\n",
            "flatten_7 (Flatten)          (None, 4608)              0         \n",
            "_________________________________________________________________\n",
            "dense_15 (Dense)             (None, 256)               1179904   \n",
            "_________________________________________________________________\n",
            "dropout_8 (Dropout)          (None, 256)               0         \n",
            "_________________________________________________________________\n",
            "dense_16 (Dense)             (None, 3)                 771       \n",
            "=================================================================\n",
            "Total params: 1,287,939\n",
            "Trainable params: 1,287,875\n",
            "Non-trainable params: 64\n",
            "_________________________________________________________________\n"
          ],
          "name": "stdout"
        }
      ]
    },
    {
      "cell_type": "code",
      "metadata": {
        "id": "Aiw4SPH28S_S"
      },
      "source": [
        "early = EarlyStopping(monitor=\"val_loss\", \n",
        "                      mode=\"min\", \n",
        "                      patience=4)\n",
        "\n",
        "learning_rate_reduction = ReduceLROnPlateau(monitor='val_loss', patience = 2, verbose=1,factor=0.1, min_lr=0.0001)\n",
        "\n",
        "callbacks_list = [ early, learning_rate_reduction]"
      ],
      "execution_count": null,
      "outputs": []
    },
    {
      "cell_type": "code",
      "metadata": {
        "id": "FhMkSOX2-PR3",
        "colab": {
          "base_uri": "https://localhost:8080/"
        },
        "outputId": "10fffccd-681c-445a-8974-de1fd80c6881"
      },
      "source": [
        "from sklearn.utils.class_weight import compute_class_weight\n",
        "weights = compute_class_weight('balanced', np.unique(train.classes), train.classes)\n",
        "cw = dict(zip( np.unique(train.classes), weights))\n",
        "print(cw)"
      ],
      "execution_count": null,
      "outputs": [
        {
          "output_type": "stream",
          "text": [
            "{0: 1.0791666666666666, 1: 0.9664179104477612, 2: 0.9628252788104089}\n"
          ],
          "name": "stdout"
        }
      ]
    },
    {
      "cell_type": "code",
      "metadata": {
        "id": "Eirr_AQc8g1g",
        "colab": {
          "base_uri": "https://localhost:8080/"
        },
        "outputId": "e88f2b72-10b4-4d26-cede-24c2e2033f49"
      },
      "source": [
        "r = cnn.fit(train,epochs=20, validation_data=valid, class_weight=cw, callbacks=callbacks_list)"
      ],
      "execution_count": null,
      "outputs": [
        {
          "output_type": "stream",
          "text": [
            "Epoch 1/20\n",
            "98/98 [==============================] - 100s 1s/step - loss: 0.6335 - accuracy: 0.7135 - val_loss: 1.2485 - val_accuracy: 0.3201\n",
            "Epoch 2/20\n",
            "98/98 [==============================] - 98s 1s/step - loss: 0.3284 - accuracy: 0.8756 - val_loss: 1.9007 - val_accuracy: 0.3779\n",
            "Epoch 3/20\n",
            "98/98 [==============================] - 98s 999ms/step - loss: 0.2472 - accuracy: 0.9104 - val_loss: 1.8263 - val_accuracy: 0.6041\n",
            "\n",
            "Epoch 00003: ReduceLROnPlateau reducing learning rate to 0.00010000000474974513.\n",
            "Epoch 4/20\n",
            "98/98 [==============================] - 99s 1s/step - loss: 0.2323 - accuracy: 0.9243 - val_loss: 1.2609 - val_accuracy: 0.6015\n",
            "Epoch 5/20\n",
            "98/98 [==============================] - 97s 994ms/step - loss: 0.1829 - accuracy: 0.9354 - val_loss: 0.4706 - val_accuracy: 0.7943\n",
            "Epoch 6/20\n",
            "98/98 [==============================] - 97s 986ms/step - loss: 0.2066 - accuracy: 0.9257 - val_loss: 0.2302 - val_accuracy: 0.9229\n",
            "Epoch 7/20\n",
            "98/98 [==============================] - 97s 991ms/step - loss: 0.1955 - accuracy: 0.9345 - val_loss: 0.1833 - val_accuracy: 0.9396\n",
            "Epoch 8/20\n",
            "98/98 [==============================] - 97s 990ms/step - loss: 0.1706 - accuracy: 0.9376 - val_loss: 0.2009 - val_accuracy: 0.9242\n",
            "Epoch 9/20\n",
            "98/98 [==============================] - 98s 994ms/step - loss: 0.1682 - accuracy: 0.9424 - val_loss: 0.1849 - val_accuracy: 0.9409\n",
            "\n",
            "Epoch 00009: ReduceLROnPlateau reducing learning rate to 0.0001.\n",
            "Epoch 10/20\n",
            "98/98 [==============================] - 98s 1s/step - loss: 0.1715 - accuracy: 0.9454 - val_loss: 0.2104 - val_accuracy: 0.9306\n",
            "Epoch 11/20\n",
            "98/98 [==============================] - 98s 995ms/step - loss: 0.1581 - accuracy: 0.9431 - val_loss: 0.1738 - val_accuracy: 0.9422\n",
            "Epoch 12/20\n",
            "98/98 [==============================] - 97s 991ms/step - loss: 0.1583 - accuracy: 0.9428 - val_loss: 0.1949 - val_accuracy: 0.9306\n",
            "Epoch 13/20\n",
            "98/98 [==============================] - 97s 989ms/step - loss: 0.1424 - accuracy: 0.9463 - val_loss: 0.1662 - val_accuracy: 0.9422\n",
            "Epoch 14/20\n",
            "98/98 [==============================] - 98s 998ms/step - loss: 0.1380 - accuracy: 0.9526 - val_loss: 0.1664 - val_accuracy: 0.9434\n",
            "Epoch 15/20\n",
            "98/98 [==============================] - 98s 995ms/step - loss: 0.1454 - accuracy: 0.9467 - val_loss: 0.1684 - val_accuracy: 0.9434\n",
            "Epoch 16/20\n",
            "98/98 [==============================] - 97s 988ms/step - loss: 0.1627 - accuracy: 0.9493 - val_loss: 0.1589 - val_accuracy: 0.9473\n",
            "Epoch 17/20\n",
            "98/98 [==============================] - 97s 989ms/step - loss: 0.1470 - accuracy: 0.9505 - val_loss: 0.1906 - val_accuracy: 0.9383\n",
            "Epoch 18/20\n",
            "98/98 [==============================] - 97s 988ms/step - loss: 0.1406 - accuracy: 0.9525 - val_loss: 0.1823 - val_accuracy: 0.9370\n",
            "Epoch 19/20\n",
            "98/98 [==============================] - 97s 989ms/step - loss: 0.1226 - accuracy: 0.9576 - val_loss: 0.1740 - val_accuracy: 0.9409\n",
            "Epoch 20/20\n",
            "98/98 [==============================] - 97s 993ms/step - loss: 0.1339 - accuracy: 0.9538 - val_loss: 0.1457 - val_accuracy: 0.9512\n"
          ],
          "name": "stdout"
        }
      ]
    },
    {
      "cell_type": "code",
      "metadata": {
        "colab": {
          "base_uri": "https://localhost:8080/"
        },
        "id": "WlmZc1ngfPPT",
        "outputId": "ec83f524-0236-4f7f-8cb2-0ffac4779826"
      },
      "source": [
        "cnn.evaluate(train)"
      ],
      "execution_count": null,
      "outputs": [
        {
          "output_type": "stream",
          "text": [
            "98/98 [==============================] - 82s 838ms/step - loss: 0.1337 - accuracy: 0.9540\n"
          ],
          "name": "stdout"
        },
        {
          "output_type": "execute_result",
          "data": {
            "text/plain": [
              "[0.133663147687912, 0.9539896845817566]"
            ]
          },
          "metadata": {
            "tags": []
          },
          "execution_count": 57
        }
      ]
    },
    {
      "cell_type": "code",
      "metadata": {
        "id": "GzNgot-RjfWL",
        "colab": {
          "base_uri": "https://localhost:8080/"
        },
        "outputId": "a9598596-834c-4cd0-9cbd-8190e86fcfe6"
      },
      "source": [
        "cnn.evaluate(valid)"
      ],
      "execution_count": null,
      "outputs": [
        {
          "output_type": "stream",
          "text": [
            "25/25 [==============================] - 10s 406ms/step - loss: 0.1457 - accuracy: 0.9512\n"
          ],
          "name": "stdout"
        },
        {
          "output_type": "execute_result",
          "data": {
            "text/plain": [
              "[0.1457148790359497, 0.9511567950248718]"
            ]
          },
          "metadata": {
            "tags": []
          },
          "execution_count": 51
        }
      ]
    },
    {
      "cell_type": "code",
      "metadata": {
        "id": "37AkvXMs9aLi",
        "colab": {
          "base_uri": "https://localhost:8080/"
        },
        "outputId": "ae98ca04-5dea-4f65-e71e-c389a1f26830"
      },
      "source": [
        "%cd /content/drive/MyDrive/Kaggle"
      ],
      "execution_count": null,
      "outputs": [
        {
          "output_type": "stream",
          "text": [
            "/content/drive/MyDrive/Kaggle\n"
          ],
          "name": "stdout"
        }
      ]
    },
    {
      "cell_type": "code",
      "metadata": {
        "id": "FIoLwOIpaSJz"
      },
      "source": [
        "from keras.models import load_model\n",
        "cnn.save('3_class_scratch_softmax_acc95.h5')\n"
      ],
      "execution_count": null,
      "outputs": []
    },
    {
      "cell_type": "code",
      "metadata": {
        "id": "rh7pjLQ2aIXO"
      },
      "source": [
        ""
      ],
      "execution_count": null,
      "outputs": []
    },
    {
      "cell_type": "code",
      "metadata": {
        "id": "TOdhXZD1c7kT",
        "colab": {
          "base_uri": "https://localhost:8080/",
          "height": 283
        },
        "outputId": "34a691c9-b44f-4a35-cf58-a7cdabd155b9"
      },
      "source": [
        "pd.DataFrame(r.history).plot()"
      ],
      "execution_count": null,
      "outputs": [
        {
          "output_type": "execute_result",
          "data": {
            "text/plain": [
              "<matplotlib.axes._subplots.AxesSubplot at 0x7f0d9011e450>"
            ]
          },
          "metadata": {
            "tags": []
          },
          "execution_count": 52
        },
        {
          "output_type": "display_data",
          "data": {
            "image/png": "[encoded data removed]",
            "text/plain": [
              "<Figure size 432x288 with 1 Axes>"
            ]
          },
          "metadata": {
            "tags": [],
            "needs_background": "light"
          }
        }
      ]
    },
    {
      "cell_type": "code",
      "metadata": {
        "id": "WabvnBbzYjtm",
        "colab": {
          "base_uri": "https://localhost:8080/"
        },
        "outputId": "e3e2814c-cf71-46e7-a1b9-454f5f4d3576"
      },
      "source": [
        "preds = cnn.predict(valid,verbose=1)"
      ],
      "execution_count": null,
      "outputs": [
        {
          "output_type": "stream",
          "text": [
            "25/25 [==============================] - 10s 409ms/step\n"
          ],
          "name": "stdout"
        }
      ]
    },
    {
      "cell_type": "code",
      "metadata": {
        "colab": {
          "base_uri": "https://localhost:8080/"
        },
        "id": "0bOp1gU_LlkM",
        "outputId": "7ce434de-4bbc-4115-da6b-57cf4a058599"
      },
      "source": [
        "preds"
      ],
      "execution_count": null,
      "outputs": [
        {
          "output_type": "execute_result",
          "data": {
            "text/plain": [
              "array([[9.9999297e-01, 2.7397400e-07, 6.7899969e-06],\n",
              "       [9.9949384e-01, 4.0886545e-04, 9.7253964e-05],\n",
              "       [9.9742824e-01, 2.4014052e-03, 1.7036885e-04],\n",
              "       ...,\n",
              "       [9.4917966e-03, 7.0919530e-03, 9.8341620e-01],\n",
              "       [4.4361273e-05, 5.4860732e-04, 9.9940705e-01],\n",
              "       [2.7229907e-03, 7.8632766e-01, 2.1094930e-01]], dtype=float32)"
            ]
          },
          "metadata": {
            "tags": []
          },
          "execution_count": 20
        }
      ]
    },
    {
      "cell_type": "code",
      "metadata": {
        "id": "M7pNRGOURv5R"
      },
      "source": [
        "predictions = preds.copy()\n",
        "predictions = np.argmax(predictions,axis=1)\n",
        "# predictions[predictions <= 0.5] = 0\n",
        "# predictions[predictions > 0.5] = 1\n"
      ],
      "execution_count": null,
      "outputs": []
    },
    {
      "cell_type": "code",
      "metadata": {
        "colab": {
          "base_uri": "https://localhost:8080/"
        },
        "id": "xs1MEssoLBMj",
        "outputId": "717d89ef-c2c4-46ff-c34d-4bf30e554d0c"
      },
      "source": [
        "print(train.class_indices)\n",
        "predictions"
      ],
      "execution_count": null,
      "outputs": [
        {
          "output_type": "stream",
          "text": [
            "{'COVID': 0, 'NORMAL': 1, 'Viral Pneumonia': 2}\n"
          ],
          "name": "stdout"
        },
        {
          "output_type": "execute_result",
          "data": {
            "text/plain": [
              "array([0, 0, 0, 0, 0, 0, 0, 0, 0, 0, 0, 0, 0, 0, 0, 0, 0, 0, 0, 0, 0, 0,\n",
              "       0, 0, 0, 0, 0, 0, 0, 0, 0, 0, 0, 0, 0, 2, 0, 0, 0, 0, 0, 0, 0, 0,\n",
              "       0, 0, 0, 0, 0, 0, 0, 0, 0, 0, 0, 0, 0, 0, 1, 0, 0, 0, 1, 0, 0, 0,\n",
              "       0, 0, 0, 0, 0, 0, 0, 0, 0, 0, 0, 0, 0, 0, 0, 0, 0, 0, 0, 0, 0, 0,\n",
              "       0, 0, 0, 0, 0, 0, 0, 0, 0, 0, 0, 0, 0, 0, 0, 0, 0, 0, 0, 0, 0, 0,\n",
              "       0, 0, 0, 0, 0, 0, 0, 0, 0, 0, 0, 0, 1, 0, 0, 0, 0, 0, 0, 0, 0, 0,\n",
              "       0, 0, 0, 0, 1, 0, 0, 0, 0, 0, 0, 0, 0, 0, 0, 0, 0, 0, 0, 0, 0, 0,\n",
              "       0, 0, 0, 0, 0, 0, 0, 0, 0, 0, 0, 0, 2, 0, 0, 0, 0, 0, 0, 0, 0, 0,\n",
              "       0, 0, 0, 0, 0, 0, 0, 0, 0, 0, 0, 0, 0, 1, 0, 0, 0, 0, 0, 0, 0, 0,\n",
              "       0, 0, 0, 0, 0, 0, 0, 0, 0, 0, 0, 0, 0, 0, 0, 0, 0, 0, 0, 0, 0, 0,\n",
              "       0, 0, 0, 0, 0, 0, 0, 0, 0, 0, 0, 0, 0, 0, 0, 0, 0, 0, 0, 0, 1, 1,\n",
              "       1, 1, 1, 1, 1, 1, 1, 1, 1, 1, 1, 1, 1, 1, 1, 1, 1, 1, 1, 1, 1, 1,\n",
              "       1, 1, 1, 1, 1, 1, 1, 1, 1, 1, 1, 1, 1, 1, 1, 1, 1, 1, 1, 1, 1, 1,\n",
              "       1, 1, 1, 1, 1, 1, 1, 1, 1, 1, 1, 1, 1, 1, 1, 1, 1, 1, 1, 1, 1, 1,\n",
              "       1, 1, 1, 1, 1, 1, 1, 1, 2, 2, 1, 1, 1, 1, 1, 1, 1, 1, 1, 1, 1, 1,\n",
              "       1, 1, 1, 1, 1, 1, 1, 1, 1, 1, 1, 1, 1, 1, 1, 1, 1, 1, 1, 1, 1, 1,\n",
              "       1, 1, 1, 1, 1, 1, 1, 1, 1, 1, 1, 1, 1, 1, 1, 1, 1, 1, 1, 1, 1, 1,\n",
              "       1, 1, 1, 1, 1, 1, 1, 1, 1, 1, 1, 1, 1, 1, 1, 1, 1, 1, 1, 1, 1, 1,\n",
              "       1, 1, 1, 1, 1, 1, 1, 1, 1, 1, 1, 1, 1, 1, 1, 1, 1, 1, 1, 1, 1, 1,\n",
              "       1, 1, 1, 1, 1, 1, 1, 1, 1, 1, 1, 1, 1, 1, 1, 1, 1, 1, 1, 1, 1, 1,\n",
              "       1, 1, 1, 1, 1, 1, 1, 1, 1, 1, 1, 1, 1, 1, 1, 1, 1, 1, 1, 1, 1, 1,\n",
              "       1, 1, 1, 1, 1, 1, 1, 1, 1, 1, 1, 2, 1, 2, 2, 1, 1, 1, 1, 1, 1, 1,\n",
              "       1, 1, 1, 1, 1, 1, 1, 1, 1, 1, 1, 1, 1, 1, 1, 1, 1, 1, 1, 1, 1, 1,\n",
              "       1, 1, 1, 2, 1, 2, 2, 2, 2, 2, 2, 2, 1, 2, 2, 1, 2, 2, 1, 2, 2, 2,\n",
              "       2, 2, 2, 1, 2, 2, 2, 2, 1, 0, 2, 1, 2, 2, 2, 2, 2, 2, 2, 2, 2, 2,\n",
              "       2, 2, 2, 2, 2, 2, 2, 2, 2, 2, 1, 2, 2, 2, 1, 1, 2, 2, 2, 2, 2, 2,\n",
              "       2, 2, 1, 2, 2, 2, 2, 2, 2, 2, 2, 2, 2, 2, 2, 1, 0, 2, 2, 2, 1, 2,\n",
              "       2, 2, 2, 2, 2, 2, 2, 2, 2, 2, 2, 2, 2, 2, 2, 2, 2, 2, 2, 2, 2, 2,\n",
              "       2, 2, 2, 2, 2, 2, 1, 0, 2, 1, 2, 1, 2, 2, 2, 2, 1, 2, 2, 1, 1, 2,\n",
              "       2, 2, 2, 2, 2, 2, 2, 2, 2, 2, 2, 2, 2, 2, 2, 2, 2, 2, 2, 2, 2, 2,\n",
              "       2, 2, 1, 2, 2, 2, 2, 2, 2, 2, 2, 2, 2, 2, 2, 2, 2, 2, 2, 2, 2, 2,\n",
              "       2, 2, 2, 2, 2, 2, 2, 2, 2, 2, 2, 2, 1, 1, 1, 2, 2, 2, 2, 2, 2, 2,\n",
              "       2, 2, 2, 2, 1, 2, 1, 2, 2, 1, 2, 2, 2, 2, 2, 2, 2, 2, 2, 2, 2, 2,\n",
              "       2, 2, 2, 2, 2, 2, 2, 2, 2, 2, 2, 2, 2, 2, 2, 2, 2, 2, 2, 2, 2, 2,\n",
              "       2, 2, 0, 2, 2, 2, 2, 2, 2, 2, 2, 2, 2, 2, 2, 1, 2, 2, 2, 1, 1, 2,\n",
              "       2, 1, 1, 2, 2, 2, 2, 1])"
            ]
          },
          "metadata": {
            "tags": []
          },
          "execution_count": 16
        }
      ]
    },
    {
      "cell_type": "code",
      "metadata": {
        "id": "zioov-9cUzoe",
        "colab": {
          "base_uri": "https://localhost:8080/",
          "height": 389
        },
        "outputId": "3231326a-580a-49d7-bd83-226c51e3748a"
      },
      "source": [
        "from sklearn.metrics import classification_report,confusion_matrix\n",
        "\n",
        "cm = pd.DataFrame(data=confusion_matrix(valid.classes, predictions, labels=[0, 1, 2]),\n",
        "                  index=[\"Actual COVID\", \"Actual NORMAL\", \"Actual Viral Pneumonia\"],\n",
        "                  columns=[\"Actual COVID\", \"Actual NORMAL\", \"Actual Viral Pneumonia\"])\n",
        "import seaborn as sns\n",
        "sns.heatmap(cm,annot=True,fmt=\"d\")"
      ],
      "execution_count": null,
      "outputs": [
        {
          "output_type": "execute_result",
          "data": {
            "text/plain": [
              "<matplotlib.axes._subplots.AxesSubplot at 0x7f0d7c0fa7d0>"
            ]
          },
          "metadata": {
            "tags": []
          },
          "execution_count": 55
        },
        {
          "output_type": "display_data",
          "data": {
            "image/png": "[encoded data removed]",
            "text/plain": [
              "<Figure size 432x288 with 2 Axes>"
            ]
          },
          "metadata": {
            "tags": [],
            "needs_background": "light"
          }
        }
      ]
    },
    {
      "cell_type": "code",
      "metadata": {
        "id": "nbUlSI-dR1EV",
        "colab": {
          "base_uri": "https://localhost:8080/"
        },
        "outputId": "3036c544-f866-4c1f-f62e-8f5017e84607"
      },
      "source": [
        " print(classification_report(y_true=valid.classes, y_pred=predictions,\n",
        "                            target_names =['COVID','NORMAL','PNEUMONIA']\n",
        " ))"
      ],
      "execution_count": null,
      "outputs": [
        {
          "output_type": "stream",
          "text": [
            "              precision    recall  f1-score   support\n",
            "\n",
            "       COVID       0.98      0.98      0.98       240\n",
            "      NORMAL       0.92      0.96      0.94       269\n",
            "   PNEUMONIA       0.95      0.91      0.93       269\n",
            "\n",
            "    accuracy                           0.95       778\n",
            "   macro avg       0.95      0.95      0.95       778\n",
            "weighted avg       0.95      0.95      0.95       778\n",
            "\n"
          ],
          "name": "stdout"
        }
      ]
    },
    {
      "cell_type": "code",
      "metadata": {
        "id": "VOCL8wzfS32K"
      },
      "source": [
        ""
      ],
      "execution_count": null,
      "outputs": []
    }
  ]
}