{
  "nbformat": 4,
  "nbformat_minor": 0,
  "metadata": {
    "colab": {
      "name": "scratch_cnn_1.ipynb",
      "provenance": [],
      "collapsed_sections": [],
      "include_colab_link": true
    },
    "kernelspec": {
      "name": "python3",
      "display_name": "Python 3"
    },
    "accelerator": "GPU"
  },
  "cells": [
    {
      "cell_type": "markdown",
      "metadata": {
        "id": "view-in-github",
        "colab_type": "text"
      },
      "source": [
        "<a href=\"https://colab.research.google.com/github/prtk0007/Pneumonia-Covid19-detection/blob/main/scratch_cnn_1.ipynb\" target=\"_parent\"><img src=\"https://colab.research.google.com/assets/colab-badge.svg\" alt=\"Open In Colab\"/></a>"
      ]
    },
    {
      "cell_type": "code",
      "metadata": {
        "id": "R1XmqXRerEIn"
      },
      "source": [
        "import os\n",
        "os.environ['KAGGLE_CONFIG_DIR'] = \"/content\"\n",
        "# # !kaggle datasets download -d paultimothymooney/chest-xray-pneumonia\n",
        "! kaggle datasets download -d pcbreviglieri/pneumonia-xray-images\n",
        "!unzip \\*.zip"
      ],
      "execution_count": null,
      "outputs": []
    },
    {
      "cell_type": "code",
      "metadata": {
        "id": "OPQ6QDVlCIzI"
      },
      "source": [
        "import matplotlib.pyplot as plt\n",
        "import numpy as np\n",
        "import pandas as pd"
      ],
      "execution_count": null,
      "outputs": []
    },
    {
      "cell_type": "code",
      "metadata": {
        "id": "fqJZa3arDwwJ"
      },
      "source": [
        "train_path = '/content/train'\n",
        "test_path = '/content/test'\n",
        "valid_path = '/content/val'"
      ],
      "execution_count": null,
      "outputs": []
    },
    {
      "cell_type": "code",
      "metadata": {
        "id": "HARIiHrzEySz"
      },
      "source": [
        "\n",
        "#Define standard parameter values\n",
        "batch_size = 32\n",
        "img_height = 500\n",
        "img_width = 500\n"
      ],
      "execution_count": null,
      "outputs": []
    },
    {
      "cell_type": "code",
      "metadata": {
        "id": "2HqL0LBA3mOC",
        "colab": {
          "base_uri": "https://localhost:8080/"
        },
        "outputId": "439aa50d-01b5-4bde-fa41-d8f364deafac"
      },
      "source": [
        "from tensorflow.keras.preprocessing.image import ImageDataGenerator, array_to_img\n",
        "\n",
        "image_gen = ImageDataGenerator(\n",
        "                                   rescale = 1./255,\n",
        "                                   shear_range = 0.2,\n",
        "                                   zoom_range = 0.2,\n",
        "                                   horizontal_flip = True,\n",
        "                                    fill mode ='nearest'\n",
        "                               )  \n",
        "\n",
        "test_data_gen = ImageDataGenerator(rescale = 1./255)\n",
        "\n",
        "\n",
        "\n",
        "train = image_gen.flow_from_directory(\n",
        "    train_path,\n",
        "    target_size=(img_height, img_width),\n",
        "    color_mode='grayscale',\n",
        "    class_mode='binary',\n",
        "    batch_size=batch_size\n",
        "                                      )\n",
        "\n",
        "test = test_data_gen.flow_from_directory(\n",
        "      test_path,\n",
        "      target_size=(img_height, img_width),\n",
        "      color_mode='grayscale',shuffle=False,\n",
        "      class_mode='binary',\n",
        "      batch_size=batch_size\n",
        "      )\n",
        "valid = test_data_gen.flow_from_directory(\n",
        "      valid_path,\n",
        "      target_size=(img_height, img_width),\n",
        "      color_mode='grayscale',\n",
        "      class_mode='binary', \n",
        "      batch_size=batch_size\n",
        "      )"
      ],
      "execution_count": null,
      "outputs": [
        {
          "output_type": "stream",
          "text": [
            "Found 4192 images belonging to 2 classes.\n",
            "Found 624 images belonging to 2 classes.\n",
            "Found 1040 images belonging to 2 classes.\n"
          ],
          "name": "stdout"
        }
      ]
    },
    {
      "cell_type": "code",
      "metadata": {
        "id": "RfeXspblliw3"
      },
      "source": [
        "from tensorflow.keras.models import Sequential,load_model,save_model\n",
        "from tensorflow.keras.layers import Dense,Conv2D,Flatten,MaxPooling2D,Dropout\n",
        "from tensorflow.keras.callbacks import EarlyStopping,ReduceLROnPlateau"
      ],
      "execution_count": null,
      "outputs": []
    },
    {
      "cell_type": "code",
      "metadata": {
        "id": "B5weZVzmiU6n"
      },
      "source": [
        "# let's build the CNN model\n",
        "\n",
        "cnn = Sequential()\n",
        "\n",
        "cnn.add(Conv2D(32, (3, 3), activation=\"relu\", input_shape=(img_width, img_height, 1)))\n",
        "cnn.add(MaxPooling2D(pool_size = (2, 2)))\n",
        "\n",
        "cnn.add(Conv2D(32, (3, 3), activation=\"relu\", input_shape=(img_width, img_height, 1)))\n",
        "cnn.add(MaxPooling2D(pool_size = (2, 2)))\n",
        "\n",
        "cnn.add(Conv2D(32, (3, 3), activation=\"relu\", input_shape=(img_width, img_height, 1)))\n",
        "cnn.add(MaxPooling2D(pool_size = (2, 2)))\n",
        "\n",
        "cnn.add(Conv2D(64, (3, 3), activation=\"relu\", input_shape=(img_width, img_height, 1)))\n",
        "cnn.add(MaxPooling2D(pool_size = (2, 2)))\n",
        "\n",
        "cnn.add(Conv2D(64, (3, 3), activation=\"relu\", input_shape=(img_width, img_height, 1)))\n",
        "cnn.add(MaxPooling2D(pool_size = (2, 2)))\n",
        "\n",
        "cnn.add(Conv2D(128, (3, 3), activation=\"relu\", input_shape=(img_width, img_height, 1)))\n",
        "cnn.add(MaxPooling2D(pool_size = (2, 2)))\n",
        "\n",
        "cnn.add(Flatten())\n",
        "\n",
        "cnn.add(Dense(activation = 'relu', units = 256))\n",
        "cnn.add(Dropout(0.3))\n",
        "cnn.add(Dense(activation = 'relu', units = 128))\n",
        "cnn.add(Dropout(0.1))\n",
        "cnn.add(Dense(activation = 'sigmoid', units = 1))\n",
        "\n",
        "\n",
        "cnn.compile(optimizer = 'adam', loss = 'binary_crossentropy', metrics = ['accuracy'])"
      ],
      "execution_count": null,
      "outputs": []
    },
    {
      "cell_type": "code",
      "metadata": {
        "id": "_N-fJYMgwvxR",
        "colab": {
          "base_uri": "https://localhost:8080/"
        },
        "outputId": "1376d2d4-e113-4ed6-d5a6-9a250bf4fd27"
      },
      "source": [
        "cnn.summary()"
      ],
      "execution_count": null,
      "outputs": [
        {
          "output_type": "stream",
          "text": [
            "Model: \"sequential_4\"\n",
            "_________________________________________________________________\n",
            "Layer (type)                 Output Shape              Param #   \n",
            "=================================================================\n",
            "conv2d_23 (Conv2D)           (None, 498, 498, 32)      320       \n",
            "_________________________________________________________________\n",
            "max_pooling2d_23 (MaxPooling (None, 249, 249, 32)      0         \n",
            "_________________________________________________________________\n",
            "conv2d_24 (Conv2D)           (None, 247, 247, 32)      9248      \n",
            "_________________________________________________________________\n",
            "max_pooling2d_24 (MaxPooling (None, 123, 123, 32)      0         \n",
            "_________________________________________________________________\n",
            "conv2d_25 (Conv2D)           (None, 121, 121, 32)      9248      \n",
            "_________________________________________________________________\n",
            "max_pooling2d_25 (MaxPooling (None, 60, 60, 32)        0         \n",
            "_________________________________________________________________\n",
            "conv2d_26 (Conv2D)           (None, 58, 58, 64)        18496     \n",
            "_________________________________________________________________\n",
            "max_pooling2d_26 (MaxPooling (None, 29, 29, 64)        0         \n",
            "_________________________________________________________________\n",
            "conv2d_27 (Conv2D)           (None, 27, 27, 64)        36928     \n",
            "_________________________________________________________________\n",
            "max_pooling2d_27 (MaxPooling (None, 13, 13, 64)        0         \n",
            "_________________________________________________________________\n",
            "conv2d_28 (Conv2D)           (None, 11, 11, 128)       73856     \n",
            "_________________________________________________________________\n",
            "max_pooling2d_28 (MaxPooling (None, 5, 5, 128)         0         \n",
            "_________________________________________________________________\n",
            "flatten_4 (Flatten)          (None, 3200)              0         \n",
            "_________________________________________________________________\n",
            "dense_12 (Dense)             (None, 256)               819456    \n",
            "_________________________________________________________________\n",
            "dropout (Dropout)            (None, 256)               0         \n",
            "_________________________________________________________________\n",
            "dense_13 (Dense)             (None, 128)               32896     \n",
            "_________________________________________________________________\n",
            "dropout_1 (Dropout)          (None, 128)               0         \n",
            "_________________________________________________________________\n",
            "dense_14 (Dense)             (None, 1)                 129       \n",
            "=================================================================\n",
            "Total params: 1,000,577\n",
            "Trainable params: 1,000,577\n",
            "Non-trainable params: 0\n",
            "_________________________________________________________________\n"
          ],
          "name": "stdout"
        }
      ]
    },
    {
      "cell_type": "code",
      "metadata": {
        "id": "Aiw4SPH28S_S"
      },
      "source": [
        "early = EarlyStopping(monitor=\"val_loss\", \n",
        "                      mode=\"min\", \n",
        "                      patience=4)\n",
        "\n",
        "learning_rate_reduction = ReduceLROnPlateau(monitor='val_loss', patience = 2, verbose=1,factor=0.3, min_lr=0.00001)\n",
        "\n",
        "callbacks_list = [ early, learning_rate_reduction]"
      ],
      "execution_count": null,
      "outputs": []
    },
    {
      "cell_type": "code",
      "metadata": {
        "id": "FhMkSOX2-PR3",
        "colab": {
          "base_uri": "https://localhost:8080/"
        },
        "outputId": "040f8bf4-1e2f-4cd5-9fc3-7f70a316bd5e"
      },
      "source": [
        "from sklearn.utils.class_weight import compute_class_weight\n",
        "weights = compute_class_weight('balanced', np.unique(train.classes), train.classes)\n",
        "cw = dict(zip( np.unique(train.classes), weights))\n",
        "print(cw)"
      ],
      "execution_count": null,
      "outputs": [
        {
          "output_type": "stream",
          "text": [
            "{0: 1.9371534195933457, 1: 0.6739549839228296}\n"
          ],
          "name": "stdout"
        }
      ]
    },
    {
      "cell_type": "code",
      "metadata": {
        "id": "Eirr_AQc8g1g",
        "colab": {
          "base_uri": "https://localhost:8080/"
        },
        "outputId": "63fe0a81-8c67-4fe0-d796-ce441f66621d"
      },
      "source": [
        "cnn.fit(train,epochs=20, validation_data=valid, class_weight=cw, callbacks=callbacks_list)"
      ],
      "execution_count": null,
      "outputs": [
        {
          "output_type": "stream",
          "text": [
            "Epoch 1/20\n",
            "262/262 [==============================] - 134s 510ms/step - loss: 0.6180 - accuracy: 0.5674 - val_loss: 0.4518 - val_accuracy: 0.7721\n",
            "Epoch 2/20\n",
            "262/262 [==============================] - 132s 505ms/step - loss: 0.2873 - accuracy: 0.8692 - val_loss: 0.2786 - val_accuracy: 0.8712\n",
            "Epoch 3/20\n",
            "262/262 [==============================] - 132s 504ms/step - loss: 0.2288 - accuracy: 0.8969 - val_loss: 0.2479 - val_accuracy: 0.8875\n",
            "Epoch 4/20\n",
            "262/262 [==============================] - 132s 504ms/step - loss: 0.2210 - accuracy: 0.9044 - val_loss: 0.1984 - val_accuracy: 0.9183\n",
            "Epoch 5/20\n",
            "262/262 [==============================] - 133s 508ms/step - loss: 0.2118 - accuracy: 0.9119 - val_loss: 0.1926 - val_accuracy: 0.9144\n",
            "Epoch 6/20\n",
            "262/262 [==============================] - 132s 502ms/step - loss: 0.1866 - accuracy: 0.9247 - val_loss: 0.2039 - val_accuracy: 0.9096\n",
            "Epoch 7/20\n",
            "262/262 [==============================] - 132s 502ms/step - loss: 0.1924 - accuracy: 0.9112 - val_loss: 0.2978 - val_accuracy: 0.8654\n",
            "\n",
            "Epoch 00007: ReduceLROnPlateau reducing learning rate to 0.0003000000142492354.\n",
            "Epoch 8/20\n",
            "262/262 [==============================] - 131s 500ms/step - loss: 0.1328 - accuracy: 0.9466 - val_loss: 0.1448 - val_accuracy: 0.9442\n",
            "Epoch 9/20\n",
            "262/262 [==============================] - 132s 503ms/step - loss: 0.1468 - accuracy: 0.9380 - val_loss: 0.1932 - val_accuracy: 0.9221\n",
            "Epoch 10/20\n",
            "262/262 [==============================] - 134s 511ms/step - loss: 0.1453 - accuracy: 0.9450 - val_loss: 0.1558 - val_accuracy: 0.9413\n",
            "\n",
            "Epoch 00010: ReduceLROnPlateau reducing learning rate to 9.000000427477062e-05.\n",
            "Epoch 11/20\n",
            "262/262 [==============================] - 131s 501ms/step - loss: 0.1255 - accuracy: 0.9513 - val_loss: 0.1542 - val_accuracy: 0.9394\n",
            "Epoch 12/20\n",
            "262/262 [==============================] - 130s 497ms/step - loss: 0.1090 - accuracy: 0.9520 - val_loss: 0.1390 - val_accuracy: 0.9433\n",
            "Epoch 13/20\n",
            "262/262 [==============================] - 130s 496ms/step - loss: 0.1189 - accuracy: 0.9546 - val_loss: 0.1307 - val_accuracy: 0.9500\n",
            "Epoch 14/20\n",
            "262/262 [==============================] - 132s 505ms/step - loss: 0.0976 - accuracy: 0.9645 - val_loss: 0.1441 - val_accuracy: 0.9404\n",
            "Epoch 15/20\n",
            "262/262 [==============================] - 129s 491ms/step - loss: 0.1034 - accuracy: 0.9565 - val_loss: 0.1424 - val_accuracy: 0.9442\n",
            "\n",
            "Epoch 00015: ReduceLROnPlateau reducing learning rate to 2.700000040931627e-05.\n",
            "Epoch 16/20\n",
            "262/262 [==============================] - 128s 490ms/step - loss: 0.1062 - accuracy: 0.9573 - val_loss: 0.1369 - val_accuracy: 0.9433\n",
            "Epoch 17/20\n",
            "262/262 [==============================] - 128s 487ms/step - loss: 0.0993 - accuracy: 0.9609 - val_loss: 0.1369 - val_accuracy: 0.9433\n",
            "\n",
            "Epoch 00017: ReduceLROnPlateau reducing learning rate to 1e-05.\n"
          ],
          "name": "stdout"
        },
        {
          "output_type": "execute_result",
          "data": {
            "text/plain": [
              "<tensorflow.python.keras.callbacks.History at 0x7fa4bd1b0210>"
            ]
          },
          "metadata": {
            "tags": []
          },
          "execution_count": 28
        }
      ]
    },
    {
      "cell_type": "code",
      "metadata": {
        "colab": {
          "base_uri": "https://localhost:8080/"
        },
        "id": "WlmZc1ngfPPT",
        "outputId": "9d4a761a-aa4d-47ac-bc2f-67dae114ab37"
      },
      "source": [
        "cnn.evaluate(train)"
      ],
      "execution_count": null,
      "outputs": [
        {
          "output_type": "stream",
          "text": [
            "262/262 [==============================] - 110s 418ms/step - loss: 0.1063 - accuracy: 0.9594\n"
          ],
          "name": "stdout"
        },
        {
          "output_type": "execute_result",
          "data": {
            "text/plain": [
              "[0.10625752061605453, 0.9594465494155884]"
            ]
          },
          "metadata": {
            "tags": []
          },
          "execution_count": 34
        }
      ]
    },
    {
      "cell_type": "code",
      "metadata": {
        "id": "TOdhXZD1c7kT",
        "colab": {
          "base_uri": "https://localhost:8080/",
          "height": 284
        },
        "outputId": "b9776e96-9db5-424b-f67b-635f38213145"
      },
      "source": [
        "pd.DataFrame(cnn.history.history).plot()"
      ],
      "execution_count": null,
      "outputs": [
        {
          "output_type": "execute_result",
          "data": {
            "text/plain": [
              "<matplotlib.axes._subplots.AxesSubplot at 0x7fa4b42f88d0>"
            ]
          },
          "metadata": {
            "tags": []
          },
          "execution_count": 29
        },
        {
          "output_type": "display_data",
          "data": {
            "image/png": "[encoded data removed]",
            "text/plain": [
              "<Figure size 432x288 with 1 Axes>"
            ]
          },
          "metadata": {
            "tags": [],
            "needs_background": "light"
          }
        }
      ]
    },
    {
      "cell_type": "code",
      "metadata": {
        "id": "WabvnBbzYjtm",
        "colab": {
          "base_uri": "https://localhost:8080/"
        },
        "outputId": "791fc196-a5a5-4496-e879-c969bf309787"
      },
      "source": [
        "preds = cnn.predict(test,verbose=1)"
      ],
      "execution_count": null,
      "outputs": [
        {
          "output_type": "stream",
          "text": [
            "39/39 [==============================] - 6s 158ms/step\n"
          ],
          "name": "stdout"
        }
      ]
    },
    {
      "cell_type": "code",
      "metadata": {
        "id": "M7pNRGOURv5R"
      },
      "source": [
        "predictions = preds.copy()\n",
        "predictions[predictions <= 0.5] = 0\n",
        "predictions[predictions > 0.5] = 1"
      ],
      "execution_count": null,
      "outputs": []
    },
    {
      "cell_type": "code",
      "metadata": {
        "id": "zioov-9cUzoe",
        "colab": {
          "base_uri": "https://localhost:8080/",
          "height": 297
        },
        "outputId": "777bb3f1-1593-4566-a461-af95e039b80b"
      },
      "source": [
        "from sklearn.metrics import classification_report,confusion_matrix\n",
        "\n",
        "cm = pd.DataFrame(data=confusion_matrix(test.classes, predictions, labels=[0, 1]),\n",
        "                  index=[\"Actual Normal\", \"Actual Pneumonia\"],\n",
        "                  columns=[\"Predicted Normal\", \"Predicted Pneumonia\"])\n",
        "import seaborn as sns\n",
        "sns.heatmap(cm,annot=True,fmt=\"d\")"
      ],
      "execution_count": null,
      "outputs": [
        {
          "output_type": "execute_result",
          "data": {
            "text/plain": [
              "<matplotlib.axes._subplots.AxesSubplot at 0x7fa4b1f293d0>"
            ]
          },
          "metadata": {
            "tags": []
          },
          "execution_count": 32
        },
        {
          "output_type": "display_data",
          "data": {
            "image/png": "[encoded data removed]",
            "text/plain": [
              "<Figure size 432x288 with 2 Axes>"
            ]
          },
          "metadata": {
            "tags": [],
            "needs_background": "light"
          }
        }
      ]
    },
    {
      "cell_type": "code",
      "metadata": {
        "id": "nbUlSI-dR1EV",
        "colab": {
          "base_uri": "https://localhost:8080/"
        },
        "outputId": "3c189a38-1ad3-439c-eaa9-501c82487c1a"
      },
      "source": [
        " print(classification_report(y_true=test.classes, y_pred=predictions,\n",
        "                            target_names =['NORMAL','PNEUMONIA']\n",
        " ))"
      ],
      "execution_count": null,
      "outputs": [
        {
          "output_type": "stream",
          "text": [
            "              precision    recall  f1-score   support\n",
            "\n",
            "      NORMAL       0.98      0.85      0.91       234\n",
            "   PNEUMONIA       0.92      0.99      0.95       390\n",
            "\n",
            "    accuracy                           0.94       624\n",
            "   macro avg       0.95      0.92      0.93       624\n",
            "weighted avg       0.94      0.94      0.94       624\n",
            "\n"
          ],
          "name": "stdout"
        }
      ]
    },
    {
      "cell_type": "code",
      "metadata": {
        "id": "VOCL8wzfS32K"
      },
      "source": [
        ""
      ],
      "execution_count": null,
      "outputs": []
    }
  ]
}